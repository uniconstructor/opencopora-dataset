{
 "cells": [
  {
   "cell_type": "code",
   "execution_count": null,
   "metadata": {
    "collapsed": true
   },
   "outputs": [],
   "source": [
    "import nltk\n",
    "from pprint import pprint\n",
    "import os\n",
    "import pandas as pd\n",
    "import numpy as np\n",
    "import csv"
   ]
  },
  {
   "cell_type": "code",
   "execution_count": null,
   "metadata": {},
   "outputs": [],
   "source": [
    "# демонстрация baseline-разбиения на примере одного документа\n",
    "def create_baseline_split(doc_id):\n",
    "    doc_id = str(doc_id)\n",
    "    # проверяем что папка не служебная\n",
    "    if doc_id.startswith('.'):\n",
    "        return\n",
    "    # папка должна существовать\n",
    "    if not os.path.exists(doc_id):\n",
    "        return FileNotFoundError('ERR: не найдена папка для документа id=' + doc_id)\n",
    "    \n",
    "    text_path = 'dataset/' + doc_id + '/' + doc_id + '-text.txt'\n",
    "    text_file = open(text_path)\n",
    "    text      = text_file.read()\n",
    "    sentences = nltk.sent_tokenize(text, 'russian')\n",
    "    # производим автоматическое разбиение на предложения для получения baseline\n",
    "    sentences_path = 'dataset/' + doc_id + '/' + doc_id + '-sentences-auto.csv'\n",
    "    df = pd.DataFrame(data={\"source\": sentences})\n",
    "    df.to_csv(sentences_path, sep=',', index=True, quoting=csv.QUOTE_NONNUMERIC, index_label=\"sent_pos\")"
   ]
  },
  {
   "cell_type": "code",
   "execution_count": null,
   "metadata": {},
   "outputs": [],
   "source": [
    "# создать baseline-разбиение для сравнение с обученной моделью\n",
    "dataset_folders = os.listdir('dataset')\n",
    "for doc_id in dataset_folders:\n",
    "    create_baseline_split(doc_id=doc_id)"
   ]
  }
 ],
 "metadata": {
  "kernelspec": {
   "display_name": "Python 3",
   "language": "python",
   "name": "python3"
  },
  "language_info": {
   "codemirror_mode": {
    "name": "ipython",
    "version": 3
   },
   "file_extension": ".py",
   "mimetype": "text/x-python",
   "name": "python",
   "nbconvert_exporter": "python",
   "pygments_lexer": "ipython3",
   "version": "3.5.6"
  }
 },
 "nbformat": 4,
 "nbformat_minor": 1
}

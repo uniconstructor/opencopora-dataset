{
 "cells": [
  {
   "cell_type": "markdown",
   "metadata": {},
   "source": [
    "# оценка точности модели (разбиения документов на предложения)"
   ]
  },
  {
   "cell_type": "code",
   "execution_count": 22,
   "metadata": {},
   "outputs": [],
   "source": [
    "import os\n",
    "import pandas as pd\n",
    "import numpy as np\n",
    "import mysql.connector\n",
    "import sys"
   ]
  },
  {
   "cell_type": "code",
   "execution_count": 3,
   "metadata": {},
   "outputs": [],
   "source": [
    "# подключение к базе opencorpora\n",
    "db = mysql.connector.connect(\n",
    "  host=\"localhost\",\n",
    "  user=\"root\",\n",
    "  passwd=\"root\",\n",
    "  database=\"opencopora.ru\"\n",
    ")\n",
    "sql = db.cursor()"
   ]
  },
  {
   "cell_type": "code",
   "execution_count": 4,
   "metadata": {},
   "outputs": [
    {
     "data": {
      "text/plain": [
       "1964"
      ]
     },
     "execution_count": 4,
     "metadata": {},
     "output_type": "execute_result"
    }
   ],
   "source": [
    "# составляем статистику по всему датасету\n",
    "# количество статей\n",
    "dataset_folders = os.listdir('dataset')\n",
    "len(dataset_folders)"
   ]
  },
  {
   "cell_type": "code",
   "execution_count": null,
   "metadata": {
    "collapsed": true
   },
   "outputs": [
    {
     "name": "stderr",
     "output_type": "stream",
     "text": [
      "/Users/frost/.conda/envs/opencopora-dataset/lib/python3.5/site-packages/ipykernel_launcher.py:10: FutureWarning: from_csv is deprecated. Please use read_csv(...) instead. Note that some of the default arguments are different, so please refer to the documentation for from_csv when changing your function calls\n",
      "  # Remove the CWD from sys.path while we load stuff.\n",
      "/Users/frost/.conda/envs/opencopora-dataset/lib/python3.5/site-packages/ipykernel_launcher.py:13: FutureWarning: from_csv is deprecated. Please use read_csv(...) instead. Note that some of the default arguments are different, so please refer to the documentation for from_csv when changing your function calls\n",
      "  del sys.path[0]\n"
     ]
    },
    {
     "data": {
      "text/plain": [
       "{'auto_split_count': 42,\n",
       " 'auto_split_misses_count': 8,\n",
       " 'auto_split_score': 85.71,\n",
       " 'doc_id': '2',\n",
       " 'manual_split_count': 44,\n",
       " 'manual_split_misses_count': 8,\n",
       " 'manual_split_score': 81.82,\n",
       " 'total_hit_count': 36}"
      ]
     },
     "execution_count": 33,
     "metadata": {},
     "output_type": "execute_result"
    }
   ],
   "source": [
    "#for folder in dataset_folders:\n",
    "    \n"
   ]
  },
  {
   "cell_type": "code",
   "execution_count": 31,
   "metadata": {
    "collapsed": true
   },
   "outputs": [
    {
     "name": "stderr",
     "output_type": "stream",
     "text": [
      "/Users/frost/.conda/envs/opencopora-dataset/lib/python3.5/site-packages/ipykernel_launcher.py:10: FutureWarning: from_csv is deprecated. Please use read_csv(...) instead. Note that some of the default arguments are different, so please refer to the documentation for from_csv when changing your function calls\n",
      "  # Remove the CWD from sys.path while we load stuff.\n",
      "/Users/frost/.conda/envs/opencopora-dataset/lib/python3.5/site-packages/ipykernel_launcher.py:13: FutureWarning: from_csv is deprecated. Please use read_csv(...) instead. Note that some of the default arguments are different, so please refer to the documentation for from_csv when changing your function calls\n",
      "  del sys.path[0]\n"
     ]
    },
    {
     "data": {
      "text/plain": [
       "{'auto_split_count': 42,\n",
       " 'auto_split_misses_count': 8,\n",
       " 'auto_split_score': 85.71,\n",
       " 'doc_id': '2',\n",
       " 'manual_split_count': 44,\n",
       " 'manual_split_misses_count': 8,\n",
       " 'manual_split_score': 81.82,\n",
       " 'total_hit_count': 36}"
      ]
     },
     "execution_count": 33,
     "metadata": {},
     "output_type": "execute_result"
    }
   ],
   "source": [
    "# оценить качество разбиения текста на предложения (от 0 до 100 %)\n",
    "def calculate_split_score(sentence_count, hit_count):\n",
    "    if hit_count == 0:\n",
    "        return 0\n",
    "    return round((hit_count / sentence_count) * 100, 2) \n",
    "\n",
    "# подсчитать статистику точности разбиения на предложения по одному документу\n",
    "def calculate_document_stats(doc_id):\n",
    "    manual_sentences_file = 'dataset/' + doc_id + '/' + doc_id + '-sentences.csv'\n",
    "    manual_df = pd.DataFrame.from_csv(path=manual_sentences_file)\n",
    "    \n",
    "    auto_sentences_file = 'dataset/' + doc_id + '/' + doc_id + '-sentences-auto.csv'\n",
    "    auto_df = pd.DataFrame.from_csv(path=auto_sentences_file)\n",
    "    \n",
    "    # получаем списки предложений из обучающей и тестовой выборки\n",
    "    manual_sentences = list(manual_df['source'].values)\n",
    "    auto_sentences   = list(auto_df['source'].values)\n",
    "    \n",
    "    # всего совпадений (одинаково разбитых предложений)\n",
    "    total_hits           = set(manual_sentences).intersection(set(auto_sentences))\n",
    "    # определяем сколько (и какие) предложения из ручного разбиения удалось автоматически повторить\n",
    "    manual_split_hits    = set(manual_sentences).intersection(set(auto_sentences))\n",
    "    manual_split_misses  = set(manual_sentences).difference(set(manual_split_hits))\n",
    "    manual_split_matches = [(sentence in manual_sentences) for sentence in manual_sentences]\n",
    "    \n",
    "    # определяем сколько (и какие) предложения из автоматического разбиения совпадают с ручным\n",
    "    auto_split_hits    = set(auto_sentences).intersection(set(manual_sentences))\n",
    "    auto_split_misses  = set(manual_sentences).difference(set(manual_split_hits))\n",
    "    auto_split_matches = [(sentence in manual_sentences) for sentence in manual_sentences]\n",
    "    \n",
    "    return {\n",
    "        \"doc_id\"                   : doc_id,\n",
    "        # общее количество предложений которые одинаково разбиты вручную и автоматически\n",
    "        \"total_hit_count\"          : len(total_hits),\n",
    "        # результаты ручного разбиения\n",
    "        \"manual_split_count\"       : len(manual_sentences),\n",
    "        \"manual_split_misses_count\": len(manual_split_misses),\n",
    "        # сколько процентов ручного разбиения удалось повторить автоматически\n",
    "        \"manual_split_score\"       : calculate_split_score(len(manual_sentences), len(manual_split_hits)),\n",
    "        # результаты авторазбиения\n",
    "        \"auto_split_count\"         : len(auto_sentences),\n",
    "        \"auto_split_misses_count\"  : len(auto_split_misses),\n",
    "        # сколько процентов автоматического разбиения соответствует ручной проверке\n",
    "        \"auto_split_score\"         : calculate_split_score(len(auto_sentences), len(auto_split_hits)),   \n",
    "    }"
   ]
  },
  {
   "cell_type": "code",
   "execution_count": 33,
   "metadata": {
    "collapsed": true
   },
   "outputs": [
    {
     "name": "stderr",
     "output_type": "stream",
     "text": [
      "/Users/frost/.conda/envs/opencopora-dataset/lib/python3.5/site-packages/ipykernel_launcher.py:10: FutureWarning: from_csv is deprecated. Please use read_csv(...) instead. Note that some of the default arguments are different, so please refer to the documentation for from_csv when changing your function calls\n",
      "  # Remove the CWD from sys.path while we load stuff.\n",
      "/Users/frost/.conda/envs/opencopora-dataset/lib/python3.5/site-packages/ipykernel_launcher.py:13: FutureWarning: from_csv is deprecated. Please use read_csv(...) instead. Note that some of the default arguments are different, so please refer to the documentation for from_csv when changing your function calls\n",
      "  del sys.path[0]\n"
     ]
    },
    {
     "data": {
      "text/plain": [
       "{'auto_split_count': 42,\n",
       " 'auto_split_misses_count': 8,\n",
       " 'auto_split_score': 85.71,\n",
       " 'doc_id': '2',\n",
       " 'manual_split_count': 44,\n",
       " 'manual_split_misses_count': 8,\n",
       " 'manual_split_score': 81.82,\n",
       " 'total_hit_count': 36}"
      ]
     },
     "execution_count": 33,
     "metadata": {},
     "output_type": "execute_result"
    }
   ],
   "source": [
    "calculate_document_stats('2')"
   ]
  },
  {
   "cell_type": "code",
   "execution_count": 19,
   "metadata": {},
   "outputs": [
    {
     "data": {
      "text/plain": [
       "array(['13-я экспедиция МКС 30 марта 2006 года с космодрома Байконур в Казахстане стартует в космос экипаж 13-й долговременной экспедиции Международной космической станции.',\n",
       "       'После более чем трёхлетнего перерыва долговременная экспедиция МКС будет вновь состоять из трёх космонавтов.',\n",
       "       'Два первых члена экспедиции, командир Павел Виноградов (Россия) и борт-инженер Джеффри Уильямс, США отправляются на работу в космос 30 марта на корабле «Союз ТМА-8».',\n",
       "       'Третий член экспедиции, астронавт Европейского космического агентства Томас Райтер (Германия) присоединится к первым двум в июле.',\n",
       "       'Райтер прибудет на МКС на американском шаттле «Дискавери» (STS-121).',\n",
       "       'Райтер — первый представитель Европы, который будет работать на МКС в составе долговременной экспедиции, до сегодняшнего дня в состав таких экспедиций входили только космонавты России и астронавты США.',\n",
       "       'Павел Виноградов и Джеффри Уильямс возвратятся на Землю 24 сентября на своём «Союзе ТМА-8», а Томас Райтер останется на станции и перейдёт в состав 14-й экспедиции МКС, которая должна прибыть на станцию в сентябре на корабле «Союз ТМА-9».',\n",
       "       '14-ю экспедицию МКС вместе с Райтером составят Майкл Лопес-Алегрия (США) и Михаил Тюрин (Россия).',\n",
       "       'Вместе с Виноградовым и Уильямсом на «Союзе ТМА-8» на МКС с кратким визитом отправляется первый космонавт Бразилии — Маркос Понтес, который возвратится на Землю 8 апреля вместе с членами 12-й долговременной экспедиции МКС Валерием Токаревым (Россия) и Уильямом Макартуром (США).',\n",
       "       'Во время пребывания 13-й экспедиции на МКС должно возобновиться строительство станции.',\n",
       "       '03.22.06 Экипаж, состоящий из трёх космонавтов, будет значительно большее время уделять научным исследованиям на станции.',\n",
       "       'Во время пребывания на МКС, члены экипажа примут две экспедиции посещения, прибывающих на американских шаттлах.',\n",
       "       'Первая экспедиция посещения — «Дискавери» STS-121 — запланирована на июль месяц, окно для старта с 1 по 19 июля.',\n",
       "       'Вторая экспедиция посещения — «Атлантис» STS-115 — состоится в августе.',\n",
       "       'Миссия «Атлантиса» возобновит строительство станции, которое было прервано в ноябре 2002 года.',\n",
       "       'Экипажу МКС-13 предстоит также принять и разгрузить два грузовых корабля «Прогресс».',\n",
       "       'Экипаж МКС-13 выполнит два выхода в открытый космос.',\n",
       "       'Один выход совершат Уильямс и Райтер в американских скафандрах из американского шлюзового модуля «Квест».',\n",
       "       'Второй выход совершат Виноградов и Уильямс в российских скафандрах из российского шлюзового модуля «Пирс».',\n",
       "       'Павел Виноградов во второй раз отправляется в космос.',\n",
       "       'Первое космическое путешествие он совершил с 5 августа 1997 года по 19 февраля 1998 года на корабле «Союз ТМ-26» и космической станции «Мир».',\n",
       "       'Во время пребывания на станции «Мир» Виноградов совершил пять выходов в открытый космос.',\n",
       "       'Для Джеффри Уильямса это также второй космический полёт.',\n",
       "       'В мае 2000 года Уильямс был в составе экипажа шаттла «Атлантис» STS-101.',\n",
       "       'Джеффри Уильямс совершил один выход в открытый космос.',\n",
       "       'Третий член экипажа МКС-13, Томас Райтер, также во второй раз отправится в космос.',\n",
       "       'Первый его полёт состоялся с 3 сентября 1995 года по 29 февраля 1996 года.',\n",
       "       'Райтер был членом 20-й экспедиции станции «Мир».',\n",
       "       'Райтер совершил два выхода в открытый космос.',\n",
       "       'Полёт Райтера осуществляется по контракту между Европейским космическим агентством и космическим агентством России.',\n",
       "       'Маркос Понтес, первый бразильский космонавт, отправляется в космический полёт в соответствии с соглашением о сотрудничестве между Россией и Бразилией.'],\n",
       "      dtype=object)"
      ]
     },
     "execution_count": 19,
     "metadata": {},
     "output_type": "execute_result"
    }
   ],
   "source": [
    "\n",
    "\n",
    "\n",
    "\n",
    "for manual_index, manual_row in manual_df.iterrows():\n",
    "    for auto_index, auto_row in auto_df.iterrows():\n",
    "        # предложение из ручного разбиения найдено в автоматическом \n",
    "        if manual_row.source == auto_row.source:\n",
    "            \n",
    "            manual_splits_hit.append(manual_row)\n",
    "            correct_auto_splits.append(auto_row)\n",
    "            break"
   ]
  },
  {
   "cell_type": "code",
   "execution_count": null,
   "metadata": {},
   "outputs": [],
   "source": []
  }
 ],
 "metadata": {
  "kernelspec": {
   "display_name": "Python 3",
   "language": "python",
   "name": "python3"
  },
  "language_info": {
   "codemirror_mode": {
    "name": "ipython",
    "version": 3
   },
   "file_extension": ".py",
   "mimetype": "text/x-python",
   "name": "python",
   "nbconvert_exporter": "python",
   "pygments_lexer": "ipython3",
   "version": "3.5.6"
  }
 },
 "nbformat": 4,
 "nbformat_minor": 1
}

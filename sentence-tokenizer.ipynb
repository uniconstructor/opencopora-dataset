{
 "cells": [
  {
   "cell_type": "code",
   "execution_count": null,
   "metadata": {
    "collapsed": true
   },
   "outputs": [],
   "source": [
    "import nltk\n",
    "from pprint import pprint\n",
    "import os\n",
    "import pandas as pd\n",
    "import numpy as np\n",
    "import csv"
   ]
  },
  {
   "cell_type": "code",
   "execution_count": 15,
   "metadata": {},
   "outputs": [],
   "source": [
    "dataset_folders = os.listdir('dataset')\n",
    "\n",
    "for doc_id in dataset_folders:\n",
    "    if doc_id == '.DS_Store':\n",
    "        continue\n",
    "    text_path = 'dataset/' + doc_id + '/' + doc_id + '-text.txt'\n",
    "    text_file = open(text_path)\n",
    "    text      = text_file.read()\n",
    "    sentences = nltk.sent_tokenize(text)\n",
    "    # производим автоматическое разбиение на предложения для получения baseline\n",
    "    sentences_path = 'dataset/' + doc_id + '/' + doc_id + '-sentences-auto.csv'\n",
    "    df = pd.DataFrame(data={\"source\": sentences})\n",
    "    df.to_csv(sentences_path, sep=',', index=True, quoting=csv.QUOTE_NONNUMERIC, index_label=\"sent_pos\")"
   ]
  },
  {
   "cell_type": "code",
   "execution_count": null,
   "metadata": {},
   "outputs": [],
   "source": []
  }
 ],
 "metadata": {
  "kernelspec": {
   "display_name": "Python 2",
   "language": "python",
   "name": "python2"
  },
  "language_info": {
   "codemirror_mode": {
    "name": "ipython",
    "version": 2
   },
   "file_extension": ".py",
   "mimetype": "text/x-python",
   "name": "python",
   "nbconvert_exporter": "python",
   "pygments_lexer": "ipython2",
   "version": "2.7.6"
  }
 },
 "nbformat": 4,
 "nbformat_minor": 0
}
